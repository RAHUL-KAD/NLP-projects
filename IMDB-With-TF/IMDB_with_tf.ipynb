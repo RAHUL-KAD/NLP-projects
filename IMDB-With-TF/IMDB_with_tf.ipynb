{
  "nbformat": 4,
  "nbformat_minor": 0,
  "metadata": {
    "colab": {
      "name": "Word_embedding_using_TF.ipynb",
      "provenance": [],
      "collapsed_sections": [],
      "toc_visible": true
    },
    "kernelspec": {
      "name": "python3",
      "display_name": "Python 3"
    },
    "language_info": {
      "name": "python"
    },
    "accelerator": "GPU"
  },
  "cells": [
    {
      "cell_type": "markdown",
      "metadata": {
        "id": "CXbsZ2mp7YHs"
      },
      "source": [
        "## Importing the libraries"
      ]
    },
    {
      "cell_type": "code",
      "metadata": {
        "id": "Rg5rUE_87EMR"
      },
      "source": [
        "import io # Input output operations\n",
        "import os # Operating system\n",
        "import shutil # TO perform high level file operations\n",
        "import string # to perform high level string operations\n",
        "import re # Regular expression\n",
        "\n",
        "import tensorflow as tf\n",
        "from tensorflow import keras\n",
        "\n",
        "from tensorflow.keras import Sequential\n",
        "from tensorflow.keras.layers import Dense, Embedding, GlobalAveragePooling1D\n",
        "from tensorflow.keras.layers.experimental.preprocessing import TextVectorization"
      ],
      "execution_count": 67,
      "outputs": []
    },
    {
      "cell_type": "markdown",
      "metadata": {
        "id": "AJSQn4AN8l4b"
      },
      "source": [
        "## Downloding the dataset\n",
        "\n",
        "You will use the Large Movie Review Dataset through the tutorial. You will train a sentiment classifier model on this dataset and in the process learn embeddings from scratch."
      ]
    },
    {
      "cell_type": "code",
      "metadata": {
        "colab": {
          "base_uri": "https://localhost:8080/"
        },
        "id": "l_mhsh5N8jbd",
        "outputId": "a3db96cf-8a48-4701-ec3c-55103174f3a1"
      },
      "source": [
        "url = 'https://ai.stanford.edu/~amaas/data/sentiment/aclImdb_v1.tar.gz'\n",
        "\n",
        "dataset = tf.keras.utils.get_file('aclImdb_v1.tar.gz', url, \n",
        "                                  untar=True, cache_dir='.',\n",
        "                                  cache_subdir='')\n",
        "\n",
        "dataset_dir = os.path.join(os.path.dirname(dataset), 'aclImdb')\n",
        "\n",
        "os.listdir(dataset_dir)"
      ],
      "execution_count": 68,
      "outputs": [
        {
          "output_type": "execute_result",
          "data": {
            "text/plain": [
              "['imdb.vocab', 'train', 'imdbEr.txt', 'README', 'test']"
            ]
          },
          "metadata": {
            "tags": []
          },
          "execution_count": 68
        }
      ]
    },
    {
      "cell_type": "markdown",
      "metadata": {
        "id": "cet3--mm-UZM"
      },
      "source": [
        "Take a look at the train/ directory. It has pos and neg folders with movie reviews labelled as positive and negative respectively. You will use reviews from pos and neg folders to train a binary classification model."
      ]
    },
    {
      "cell_type": "code",
      "metadata": {
        "colab": {
          "base_uri": "https://localhost:8080/"
        },
        "id": "AviDMvNo9kTi",
        "outputId": "79fab929-95c9-4452-a10e-029290099316"
      },
      "source": [
        "# train dataset directory\n",
        "train_dir = os.path.join(dataset_dir, 'train')\n",
        "os.listdir(train_dir)"
      ],
      "execution_count": 69,
      "outputs": [
        {
          "output_type": "execute_result",
          "data": {
            "text/plain": [
              "['urls_pos.txt',\n",
              " 'pos',\n",
              " 'labeledBow.feat',\n",
              " 'urls_neg.txt',\n",
              " 'neg',\n",
              " 'unsup',\n",
              " 'urls_unsup.txt',\n",
              " 'unsupBow.feat']"
            ]
          },
          "metadata": {
            "tags": []
          },
          "execution_count": 69
        }
      ]
    },
    {
      "cell_type": "markdown",
      "metadata": {
        "id": "0kRPU4WD-3lL"
      },
      "source": [
        "#### train directory also has additioinal folders which should be removed before creating dataset"
      ]
    },
    {
      "cell_type": "code",
      "metadata": {
        "id": "qyCEwdkR-NLJ"
      },
      "source": [
        "remove_dir = os.path.join(train_dir, 'unsup')\n",
        "\n",
        "shutil.rmtree(remove_dir)\n"
      ],
      "execution_count": 70,
      "outputs": []
    },
    {
      "cell_type": "markdown",
      "metadata": {
        "id": "x-NZ-ubrANV1"
      },
      "source": [
        "Next, create a tf.data.Dataset using tf.keras.preprocessing.text_dataset_from_directory.\n",
        "\n",
        "Use the train directory to create both train and validation datasets with a split of 20% for validation.\n",
        "\n"
      ]
    },
    {
      "cell_type": "code",
      "metadata": {
        "colab": {
          "base_uri": "https://localhost:8080/"
        },
        "id": "-F6xgSLC_9NO",
        "outputId": "1d44e1ee-c4b1-4119-fbcd-c459f021aa9a"
      },
      "source": [
        "batch_size = 1024\n",
        "seed = 123\n",
        "\n",
        "train_dataset = tf.keras.preprocessing.text_dataset_from_directory(\n",
        "    'aclImdb/train', batch_size = batch_size, validation_split=0.2, \n",
        "    subset='training', seed=seed\n",
        ")\n",
        "\n",
        "validation_dataset = tf.keras.preprocessing.text_dataset_from_directory(\n",
        "    'aclImdb/train', batch_size = batch_size, validation_split=0.2, \n",
        "    subset='validation', seed=seed\n",
        ")"
      ],
      "execution_count": 71,
      "outputs": [
        {
          "output_type": "stream",
          "text": [
            "Found 25000 files belonging to 2 classes.\n",
            "Using 20000 files for training.\n",
            "Found 25000 files belonging to 2 classes.\n",
            "Using 5000 files for validation.\n"
          ],
          "name": "stdout"
        }
      ]
    },
    {
      "cell_type": "markdown",
      "metadata": {
        "id": "pMMg4oVgCC47"
      },
      "source": [
        "Take a look at a few movie reviews and their labels (1: positive, 0: negative) from the train dataset.\n",
        "\n"
      ]
    },
    {
      "cell_type": "code",
      "metadata": {
        "colab": {
          "base_uri": "https://localhost:8080/"
        },
        "id": "Mw-zrUMeBNok",
        "outputId": "c42d4555-d494-41ac-f785-661bc5447dd9"
      },
      "source": [
        "for text, label in train_dataset.take(1):\n",
        "  for i in range(5):\n",
        "    print(label[i].numpy(), text.numpy()[i])"
      ],
      "execution_count": 72,
      "outputs": [
        {
          "output_type": "stream",
          "text": [
            "0 b\"Oh My God! Please, for the love of all that is holy, Do Not Watch This Movie! It it 82 minutes of my life I will never get back. Sure, I could have stopped watching half way through. But I thought it might get better. It Didn't. Anyone who actually enjoyed this movie is one seriously sick and twisted individual. No wonder us Australians/New Zealanders have a terrible reputation when it comes to making movies. Everything about this movie is horrible, from the acting to the editing. I don't even normally write reviews on here, but in this case I'll make an exception. I only wish someone had of warned me before I hired this catastrophe\"\n",
            "1 b'This movie is SOOOO funny!!! The acting is WONDERFUL, the Ramones are sexy, the jokes are subtle, and the plot is just what every high schooler dreams of doing to his/her school. I absolutely loved the soundtrack as well as the carefully placed cynicism. If you like monty python, You will love this film. This movie is a tad bit \"grease\"esk (without all the annoying songs). The songs that are sung are likable; you might even find yourself singing these songs once the movie is through. This musical ranks number two in musicals to me (second next to the blues brothers). But please, do not think of it as a musical per say; seeing as how the songs are so likable, it is hard to tell a carefully choreographed scene is taking place. I think of this movie as more of a comedy with undertones of romance. You will be reminded of what it was like to be a rebellious teenager; needless to say, you will be reminiscing of your old high school days after seeing this film. Highly recommended for both the family (since it is a very youthful but also for adults since there are many jokes that are funnier with age and experience.'\n",
            "0 b\"Alex D. Linz replaces Macaulay Culkin as the central figure in the third movie in the Home Alone empire. Four industrial spies acquire a missile guidance system computer chip and smuggle it through an airport inside a remote controlled toy car. Because of baggage confusion, grouchy Mrs. Hess (Marian Seldes) gets the car. She gives it to her neighbor, Alex (Linz), just before the spies turn up. The spies rent a house in order to burglarize each house in the neighborhood until they locate the car. Home alone with the chicken pox, Alex calls 911 each time he spots a theft in progress, but the spies always manage to elude the police while Alex is accused of making prank calls. The spies finally turn their attentions toward Alex, unaware that he has rigged devices to cleverly booby-trap his entire house. Home Alone 3 wasn't horrible, but probably shouldn't have been made, you can't just replace Macauley Culkin, Joe Pesci, or Daniel Stern. Home Alone 3 had some funny parts, but I don't like when characters are changed in a movie series, view at own risk.\"\n",
            "0 b\"There's a good movie lurking here, but this isn't it. The basic idea is good: to explore the moral issues that would face a group of young survivors of the apocalypse. But the logic is so muddled that it's impossible to get involved.<br /><br />For example, our four heroes are (understandably) paranoid about catching the mysterious airborne contagion that's wiped out virtually all of mankind. Yet they wear surgical masks some times, not others. Some times they're fanatical about wiping down with bleach any area touched by an infected person. Other times, they seem completely unconcerned.<br /><br />Worse, after apparently surviving some weeks or months in this new kill-or-be-killed world, these people constantly behave like total newbs. They don't bother accumulating proper equipment, or food. They're forever running out of fuel in the middle of nowhere. They don't take elementary precautions when meeting strangers. And after wading through the rotting corpses of the entire human race, they're as squeamish as sheltered debutantes. You have to constantly wonder how they could have survived this long... and even if they did, why anyone would want to make a movie about them.<br /><br />So when these dweebs stop to agonize over the moral dimensions of their actions, it's impossible to take their soul-searching seriously. Their actions would first have to make some kind of minimal sense.<br /><br />On top of all this, we must contend with the dubious acting abilities of Chris Pine. His portrayal of an arrogant young James T Kirk might have seemed shrewd, when viewed in isolation. But in Carriers he plays on exactly that same note: arrogant and boneheaded. It's impossible not to suspect that this constitutes his entire dramatic range.<br /><br />On the positive side, the film *looks* excellent. It's got an over-sharp, saturated look that really suits the southwestern US locale. But that can't save the truly feeble writing nor the paper-thin (and annoying) characters. Even if you're a fan of the end-of-the-world genre, you should save yourself the agony of watching Carriers.\"\n",
            "0 b'I saw this movie at an actual movie theater (probably the $2.00 one) with my cousin and uncle. We were around 11 and 12, I guess, and really into scary movies. I remember being so excited to see it because my cool uncle let us pick the movie (and we probably never got to do that again!) and sooo disappointed afterwards!! Just boring and not scary. The only redeeming thing I can remember was Corky Pigeon from Silver Spoons, and that wasn\\'t all that great, just someone I recognized. I\\'ve seen bad movies before and this one has always stuck out in my mind as the worst. This was from what I can recall, one of the most boring, non-scary, waste of our collective $6, and a waste of film. I have read some of the reviews that say it is worth a watch and I say, \"Too each his own\", but I wouldn\\'t even bother. Not even so bad it\\'s good.'\n"
          ],
          "name": "stdout"
        }
      ]
    },
    {
      "cell_type": "markdown",
      "metadata": {
        "id": "MBzBPY_nFLId"
      },
      "source": [
        "## Configure the dataset for performance\n",
        "\n",
        "These are two important methods you should use when loading data to make sure that I/O does not become blocking.\n",
        "\n",
        ".cache() keeps data in memory after it's loaded off disk. This will ensure the dataset does not become a bottleneck while training your model. If your dataset is too large to fit into memory, you can also use this method to create a performant on-disk cache, which is more efficient to read than many small files.\n",
        "\n",
        ".prefetch() overlaps data preprocessing and model execution while training. "
      ]
    },
    {
      "cell_type": "code",
      "metadata": {
        "id": "id9bXid1DkH-"
      },
      "source": [
        "AUTOTUNE = tf.data.AUTOTUNE\n",
        "\n",
        "train_dataset = train_dataset.cache().prefetch(buffer_size=AUTOTUNE)\n",
        "validation_dataset = validation_dataset.cache().prefetch(buffer_size=AUTOTUNE)"
      ],
      "execution_count": 73,
      "outputs": []
    },
    {
      "cell_type": "markdown",
      "metadata": {
        "id": "ev4jML-bJFDb"
      },
      "source": [
        "## Using the Embedding layer\n",
        "\n",
        "Keras makes it easy to use word embeddings.\n",
        "\n",
        "The Embedding layer can be understood as a lookup table that maps from integer indices (which stand for specific words) to dense vectors (their embeddings). The dimensionality (or width) of the embedding is a parameter you can experiment with to see what works well for your problem, much in the same way you would experiment with the number of neurons in a Dense layer."
      ]
    },
    {
      "cell_type": "code",
      "metadata": {
        "id": "S1xvreLRIrJy"
      },
      "source": [
        "# Embeded 1000 words into 5 dimesion\n",
        "embedding_layer = tf.keras.layers.Embedding(1000, 5)\n"
      ],
      "execution_count": 74,
      "outputs": []
    },
    {
      "cell_type": "markdown",
      "metadata": {
        "id": "plmK12A7Nqow"
      },
      "source": [
        "When you create an Embedding layer, the weights for the embedding are randomly initialized (just like any other layer). During training, they are gradually adjusted via backpropagation. Once trained, the learned word embeddings will roughly encode similarities between words (as they were learned for the specific problem your model is trained on)."
      ]
    },
    {
      "cell_type": "code",
      "metadata": {
        "colab": {
          "base_uri": "https://localhost:8080/"
        },
        "id": "lBtpLKdRNrdY",
        "outputId": "fc0bf499-d261-46f0-d7cd-7a9ba5163953"
      },
      "source": [
        "# If you pass an integer to an embedding layer, the result replaces each integer with the vector from the embedding table:\n",
        "\n",
        "result = embedding_layer(tf.constant([1, 2, 3]))\n",
        "result.numpy()\n"
      ],
      "execution_count": 75,
      "outputs": [
        {
          "output_type": "execute_result",
          "data": {
            "text/plain": [
              "array([[ 0.01419505, -0.03039126,  0.00285299,  0.01637185, -0.00406059],\n",
              "       [-0.01751189,  0.04935582,  0.0127713 ,  0.00139158,  0.03109893],\n",
              "       [-0.01356477,  0.04451648, -0.03404649,  0.0295887 , -0.04784168]],\n",
              "      dtype=float32)"
            ]
          },
          "metadata": {
            "tags": []
          },
          "execution_count": 75
        }
      ]
    },
    {
      "cell_type": "markdown",
      "metadata": {
        "id": "1INhW_HJO-TN"
      },
      "source": [
        "## Text preprocessing\n",
        "Next, define the dataset preprocessing steps required for your sentiment classification model. Initialize a TextVectorization layer with the desired parameters to vectorize movie reviews."
      ]
    },
    {
      "cell_type": "code",
      "metadata": {
        "id": "TCh9pDJpNvZx"
      },
      "source": [
        "# Create a custom standardization function to strip HTML break tags '<br />'.\n",
        "def custom_standarization(imput_data):\n",
        "  lowercase = tf.strings.lower(imput_data)\n",
        "  break_html = tf.strings.regex_replace(lowercase, '<br />', ' ')\n",
        "  return tf.strings.regex_replace(break_html, \n",
        "                                  '[%s]' % re.escape(string.punctuation), '')"
      ],
      "execution_count": 76,
      "outputs": []
    },
    {
      "cell_type": "code",
      "metadata": {
        "id": "W84LxjfOP9s9"
      },
      "source": [
        "# Vocabulary size and number of words in a sequence.\n",
        "vocab_size = 10000\n",
        "sequence_length = 100\n",
        "\n",
        "# Use the text vectorization layer to normalize, split, and map strings to\n",
        "# integers. Note that the layer uses the custom standardization defined above.\n",
        "# Set maximum_sequence length as all samples are not of the same length.\n",
        "vectorize_layer = TextVectorization(\n",
        "    standardize=custom_standarization,\n",
        "    max_tokens=vocab_size,\n",
        "    output_mode='int',\n",
        "    output_sequence_length=sequence_length\n",
        ")"
      ],
      "execution_count": 77,
      "outputs": []
    },
    {
      "cell_type": "code",
      "metadata": {
        "id": "7z-0tnhMQ0LO"
      },
      "source": [
        "# Make a text-only dataset (no labels) and call adapt to build the vocabulary.\n",
        "text_dataset = train_dataset.map(lambda x, y: x)\n",
        "vectorize_layer.adapt(text_dataset)"
      ],
      "execution_count": 78,
      "outputs": []
    },
    {
      "cell_type": "markdown",
      "metadata": {
        "id": "HIHNOBe-OPQo"
      },
      "source": [
        "## Create a classification model"
      ]
    },
    {
      "cell_type": "code",
      "metadata": {
        "id": "EGnFR5PMOVLn"
      },
      "source": [
        "embedding_dims = 16\n",
        "model = Sequential([\n",
        "                    vectorize_layer,\n",
        "                    Embedding(vocab_size, embedding_dims, name='embedding'),\n",
        "                    GlobalAveragePooling1D(),\n",
        "                    Dense(16, activation='tanh'),\n",
        "                    tf.keras.layers.Dropout(0.5),\n",
        "                    Dense(16, activation='tanh'),\n",
        "                    tf.keras.layers.Dropout(0.5),\n",
        "                    Dense(1)\n",
        "]\n",
        ")"
      ],
      "execution_count": 79,
      "outputs": []
    },
    {
      "cell_type": "markdown",
      "metadata": {
        "id": "ZKIzUTCPPGZ3"
      },
      "source": [
        "## Compile and Train model"
      ]
    },
    {
      "cell_type": "code",
      "metadata": {
        "id": "fF_wJ1C0PS0J"
      },
      "source": [
        "# Using tenorbord\n",
        "tensorboard_callback = tf.keras.callbacks.TensorBoard(log_dir='logs')\n"
      ],
      "execution_count": 80,
      "outputs": []
    },
    {
      "cell_type": "markdown",
      "metadata": {
        "id": "dTfX19S4Pi2u"
      },
      "source": [
        "Compile and train the model using the Adam optimizer and BinaryCrossentropy loss. "
      ]
    },
    {
      "cell_type": "code",
      "metadata": {
        "id": "rVmg24M5PmI5"
      },
      "source": [
        "model.compile(optimizer='adamax',\n",
        "              loss=tf.keras.losses.BinaryCrossentropy(from_logits=True),\n",
        "              metrics=['accuracy'])"
      ],
      "execution_count": 81,
      "outputs": []
    },
    {
      "cell_type": "code",
      "metadata": {
        "colab": {
          "base_uri": "https://localhost:8080/"
        },
        "id": "7mWSJV1YP6DX",
        "outputId": "294171d9-c37a-4423-8959-278777ab11d8"
      },
      "source": [
        "history = model.fit(\n",
        "    train_dataset,\n",
        "    validation_data=validation_dataset,\n",
        "    epochs=30,\n",
        "    callbacks=[tensorboard_callback]\n",
        ")"
      ],
      "execution_count": 82,
      "outputs": [
        {
          "output_type": "stream",
          "text": [
            "Epoch 1/30\n",
            "20/20 [==============================] - 4s 169ms/step - loss: 0.6930 - accuracy: 0.5037 - val_loss: 0.6923 - val_accuracy: 0.4886\n",
            "Epoch 2/30\n",
            "20/20 [==============================] - 1s 75ms/step - loss: 0.6916 - accuracy: 0.5037 - val_loss: 0.6907 - val_accuracy: 0.4886\n",
            "Epoch 3/30\n",
            "20/20 [==============================] - 1s 76ms/step - loss: 0.6899 - accuracy: 0.5037 - val_loss: 0.6882 - val_accuracy: 0.4886\n",
            "Epoch 4/30\n",
            "20/20 [==============================] - 2s 77ms/step - loss: 0.6872 - accuracy: 0.5037 - val_loss: 0.6840 - val_accuracy: 0.4886\n",
            "Epoch 5/30\n",
            "20/20 [==============================] - 1s 75ms/step - loss: 0.6827 - accuracy: 0.5037 - val_loss: 0.6777 - val_accuracy: 0.4886\n",
            "Epoch 6/30\n",
            "20/20 [==============================] - 2s 76ms/step - loss: 0.6749 - accuracy: 0.5041 - val_loss: 0.6684 - val_accuracy: 0.4886\n",
            "Epoch 7/30\n",
            "20/20 [==============================] - 2s 78ms/step - loss: 0.6654 - accuracy: 0.5056 - val_loss: 0.6559 - val_accuracy: 0.4886\n",
            "Epoch 8/30\n",
            "20/20 [==============================] - 1s 75ms/step - loss: 0.6525 - accuracy: 0.5143 - val_loss: 0.6400 - val_accuracy: 0.4968\n",
            "Epoch 9/30\n",
            "20/20 [==============================] - 1s 75ms/step - loss: 0.6344 - accuracy: 0.5350 - val_loss: 0.6203 - val_accuracy: 0.5324\n",
            "Epoch 10/30\n",
            "20/20 [==============================] - 1s 74ms/step - loss: 0.6133 - accuracy: 0.5657 - val_loss: 0.5975 - val_accuracy: 0.5868\n",
            "Epoch 11/30\n",
            "20/20 [==============================] - 1s 75ms/step - loss: 0.5899 - accuracy: 0.6074 - val_loss: 0.5722 - val_accuracy: 0.6374\n",
            "Epoch 12/30\n",
            "20/20 [==============================] - 1s 75ms/step - loss: 0.5618 - accuracy: 0.6517 - val_loss: 0.5456 - val_accuracy: 0.6798\n",
            "Epoch 13/30\n",
            "20/20 [==============================] - 1s 75ms/step - loss: 0.5351 - accuracy: 0.6919 - val_loss: 0.5189 - val_accuracy: 0.7106\n",
            "Epoch 14/30\n",
            "20/20 [==============================] - 1s 76ms/step - loss: 0.5050 - accuracy: 0.7314 - val_loss: 0.4932 - val_accuracy: 0.7414\n",
            "Epoch 15/30\n",
            "20/20 [==============================] - 1s 75ms/step - loss: 0.4800 - accuracy: 0.7537 - val_loss: 0.4709 - val_accuracy: 0.7542\n",
            "Epoch 16/30\n",
            "20/20 [==============================] - 2s 77ms/step - loss: 0.4537 - accuracy: 0.7755 - val_loss: 0.4516 - val_accuracy: 0.7698\n",
            "Epoch 17/30\n",
            "20/20 [==============================] - 1s 75ms/step - loss: 0.4299 - accuracy: 0.7941 - val_loss: 0.4359 - val_accuracy: 0.7812\n",
            "Epoch 18/30\n",
            "20/20 [==============================] - 2s 77ms/step - loss: 0.4127 - accuracy: 0.8048 - val_loss: 0.4232 - val_accuracy: 0.7888\n",
            "Epoch 19/30\n",
            "20/20 [==============================] - 2s 76ms/step - loss: 0.3979 - accuracy: 0.8159 - val_loss: 0.4138 - val_accuracy: 0.7920\n",
            "Epoch 20/30\n",
            "20/20 [==============================] - 2s 78ms/step - loss: 0.3827 - accuracy: 0.8265 - val_loss: 0.4052 - val_accuracy: 0.8004\n",
            "Epoch 21/30\n",
            "20/20 [==============================] - 2s 78ms/step - loss: 0.3704 - accuracy: 0.8302 - val_loss: 0.3984 - val_accuracy: 0.8056\n",
            "Epoch 22/30\n",
            "20/20 [==============================] - 2s 77ms/step - loss: 0.3577 - accuracy: 0.8397 - val_loss: 0.3930 - val_accuracy: 0.8092\n",
            "Epoch 23/30\n",
            "20/20 [==============================] - 2s 78ms/step - loss: 0.3466 - accuracy: 0.8456 - val_loss: 0.3889 - val_accuracy: 0.8150\n",
            "Epoch 24/30\n",
            "20/20 [==============================] - 2s 76ms/step - loss: 0.3363 - accuracy: 0.8512 - val_loss: 0.3858 - val_accuracy: 0.8166\n",
            "Epoch 25/30\n",
            "20/20 [==============================] - 2s 76ms/step - loss: 0.3289 - accuracy: 0.8565 - val_loss: 0.3832 - val_accuracy: 0.8188\n",
            "Epoch 26/30\n",
            "20/20 [==============================] - 1s 76ms/step - loss: 0.3184 - accuracy: 0.8611 - val_loss: 0.3810 - val_accuracy: 0.8200\n",
            "Epoch 27/30\n",
            "20/20 [==============================] - 2s 76ms/step - loss: 0.3104 - accuracy: 0.8656 - val_loss: 0.3800 - val_accuracy: 0.8208\n",
            "Epoch 28/30\n",
            "20/20 [==============================] - 2s 77ms/step - loss: 0.3048 - accuracy: 0.8687 - val_loss: 0.3792 - val_accuracy: 0.8236\n",
            "Epoch 29/30\n",
            "20/20 [==============================] - 2s 76ms/step - loss: 0.2962 - accuracy: 0.8750 - val_loss: 0.3797 - val_accuracy: 0.8218\n",
            "Epoch 30/30\n",
            "20/20 [==============================] - 2s 76ms/step - loss: 0.2900 - accuracy: 0.8775 - val_loss: 0.3802 - val_accuracy: 0.8218\n"
          ],
          "name": "stdout"
        }
      ]
    },
    {
      "cell_type": "markdown",
      "metadata": {
        "id": "KL_SEe-rQQ8z"
      },
      "source": [
        "With this approach the model reaches a validation accuracy of around 84% (note that the model is overfitting since training accuracy is higher)."
      ]
    },
    {
      "cell_type": "code",
      "metadata": {
        "colab": {
          "base_uri": "https://localhost:8080/"
        },
        "id": "yXCk13O4QpjY",
        "outputId": "2faaa87a-d68b-47a3-b514-c90e6bac235f"
      },
      "source": [
        "# observing the summery\n",
        "model.summary()"
      ],
      "execution_count": 83,
      "outputs": [
        {
          "output_type": "stream",
          "text": [
            "Model: \"sequential_2\"\n",
            "_________________________________________________________________\n",
            "Layer (type)                 Output Shape              Param #   \n",
            "=================================================================\n",
            "text_vectorization_2 (TextVe (None, 100)               0         \n",
            "_________________________________________________________________\n",
            "embedding (Embedding)        (None, 100, 16)           160000    \n",
            "_________________________________________________________________\n",
            "global_average_pooling1d_2 ( (None, 16)                0         \n",
            "_________________________________________________________________\n",
            "dense_6 (Dense)              (None, 16)                272       \n",
            "_________________________________________________________________\n",
            "dropout_4 (Dropout)          (None, 16)                0         \n",
            "_________________________________________________________________\n",
            "dense_7 (Dense)              (None, 16)                272       \n",
            "_________________________________________________________________\n",
            "dropout_5 (Dropout)          (None, 16)                0         \n",
            "_________________________________________________________________\n",
            "dense_8 (Dense)              (None, 1)                 17        \n",
            "=================================================================\n",
            "Total params: 160,561\n",
            "Trainable params: 160,561\n",
            "Non-trainable params: 0\n",
            "_________________________________________________________________\n"
          ],
          "name": "stdout"
        }
      ]
    },
    {
      "cell_type": "markdown",
      "metadata": {
        "id": "2OGaCyOCQ8Ie"
      },
      "source": [
        "Visualize the model metrics in TensorBoard."
      ]
    },
    {
      "cell_type": "code",
      "metadata": {
        "colab": {
          "base_uri": "https://localhost:8080/",
          "height": 300
        },
        "id": "cfwNR6Sff0db",
        "outputId": "1f774cd9-23c6-4c8c-cd5c-41fd08610697"
      },
      "source": [
        "import matplotlib.pyplot as plt\n",
        "\n",
        "plt.plot(history.history['accuracy'], label='accuracy')\n",
        "plt.plot(history.history['val_accuracy'], label = 'val_accuracy')\n",
        "plt.xlabel('Epoch')\n",
        "plt.ylabel('Accuracy')\n",
        "plt.ylim([0.5, 1])\n",
        "plt.legend(loc='lower right')"
      ],
      "execution_count": 84,
      "outputs": [
        {
          "output_type": "execute_result",
          "data": {
            "text/plain": [
              "<matplotlib.legend.Legend at 0x7fd879c8d3d0>"
            ]
          },
          "metadata": {
            "tags": []
          },
          "execution_count": 84
        },
        {
          "output_type": "display_data",
          "data": {
            "image/png": "[encoded data removed]",
            "text/plain": [
              "<Figure size 432x288 with 1 Axes>"
            ]
          },
          "metadata": {
            "tags": [],
            "needs_background": "light"
          }
        }
      ]
    },
    {
      "cell_type": "code",
      "metadata": {
        "colab": {
          "base_uri": "https://localhost:8080/"
        },
        "id": "f0yhJF_LgCe-",
        "outputId": "4b245aec-11b7-4cb0-d9da-9efd21d8efe7"
      },
      "source": [
        "dataset = [['This movie is SOOOO funny!!! The acting is WONDERFUL, the Ramones are sexy, the jokes are subtle, and the plot is just what every high schooler dreams of doing to his/her school. I absolutely loved the soundtrack as well as the carefully placed cynicism. If you like monty python, You will love this film. This movie is a tad bit \"grease\"esk (without all the annoying songs). The songs that are sung are likable; you might even find yourself singing these songs once the movie is through. This musical ranks number two in musicals to me (second next to the blues brothers). But please, do not think of it as a musical per say; seeing as how the songs are so likable, it is hard to tell a carefully choreographed scene is taking place. I think of this movie as more of a comedy with undertones of romance. You will be reminded of what it was like to be a rebellious teenager; needless to say, you will be reminiscing of your old high school days after seeing this film. Highly recommended for both the family (since it is a very youthful but also for adults since there are many jokes that are funnier with age and experience.']]\n",
        "predict = model.predict(dataset)\n",
        "\n",
        "if predict[0] > 0.5:\n",
        "  print('yes')\n",
        "else:\n",
        "  print('NO')"
      ],
      "execution_count": 85,
      "outputs": [
        {
          "output_type": "stream",
          "text": [
            "yes\n"
          ],
          "name": "stdout"
        }
      ]
    },
    {
      "cell_type": "markdown",
      "metadata": {
        "id": "Vbh3UHRl41fQ"
      },
      "source": [
        "## Save and load model\n"
      ]
    },
    {
      "cell_type": "code",
      "metadata": {
        "colab": {
          "base_uri": "https://localhost:8080/"
        },
        "id": "n3ado_6y41N2",
        "outputId": "f330440b-3564-458a-9c73-e2df1a21575a"
      },
      "source": [
        "export_model = 'imdb_saved_model'\n",
        "tf.saved_model.save(model, export_model)"
      ],
      "execution_count": 86,
      "outputs": [
        {
          "output_type": "stream",
          "text": [
            "INFO:tensorflow:Assets written to: imdb_saved_model/assets\n"
          ],
          "name": "stdout"
        }
      ]
    },
    {
      "cell_type": "code",
      "metadata": {
        "id": "aSCoCFCj408F",
        "colab": {
          "base_uri": "https://localhost:8080/"
        },
        "outputId": "1538ce4c-03dc-4c38-dee5-2ec032484963"
      },
      "source": [
        "reloded = tf.saved_model.load(export_model)\n",
        "reloded_result = reloded(dataset, training=False)"
      ],
      "execution_count": 88,
      "outputs": [
        {
          "output_type": "stream",
          "text": [
            "WARNING:tensorflow:8 out of the last 8 calls to <function recreate_function.<locals>.restored_function_body at 0x7fd87b07e710> triggered tf.function retracing. Tracing is expensive and the excessive number of tracings could be due to (1) creating @tf.function repeatedly in a loop, (2) passing tensors with different shapes, (3) passing Python objects instead of tensors. For (1), please define your @tf.function outside of the loop. For (2), @tf.function has experimental_relax_shapes=True option that relaxes argument shapes that can avoid unnecessary retracing. For (3), please refer to https://www.tensorflow.org/guide/function#controlling_retracing and https://www.tensorflow.org/api_docs/python/tf/function for  more details.\n",
            "WARNING:tensorflow:9 out of the last 9 calls to <function recreate_function.<locals>.restored_function_body at 0x7fd87b043830> triggered tf.function retracing. Tracing is expensive and the excessive number of tracings could be due to (1) creating @tf.function repeatedly in a loop, (2) passing tensors with different shapes, (3) passing Python objects instead of tensors. For (1), please define your @tf.function outside of the loop. For (2), @tf.function has experimental_relax_shapes=True option that relaxes argument shapes that can avoid unnecessary retracing. For (3), please refer to https://www.tensorflow.org/guide/function#controlling_retracing and https://www.tensorflow.org/api_docs/python/tf/function for  more details.\n",
            "WARNING:tensorflow:10 out of the last 10 calls to <function recreate_function.<locals>.restored_function_body at 0x7fd87d202b90> triggered tf.function retracing. Tracing is expensive and the excessive number of tracings could be due to (1) creating @tf.function repeatedly in a loop, (2) passing tensors with different shapes, (3) passing Python objects instead of tensors. For (1), please define your @tf.function outside of the loop. For (2), @tf.function has experimental_relax_shapes=True option that relaxes argument shapes that can avoid unnecessary retracing. For (3), please refer to https://www.tensorflow.org/guide/function#controlling_retracing and https://www.tensorflow.org/api_docs/python/tf/function for  more details.\n",
            "WARNING:tensorflow:11 out of the last 11 calls to <function recreate_function.<locals>.restored_function_body at 0x7fd87b5289e0> triggered tf.function retracing. Tracing is expensive and the excessive number of tracings could be due to (1) creating @tf.function repeatedly in a loop, (2) passing tensors with different shapes, (3) passing Python objects instead of tensors. For (1), please define your @tf.function outside of the loop. For (2), @tf.function has experimental_relax_shapes=True option that relaxes argument shapes that can avoid unnecessary retracing. For (3), please refer to https://www.tensorflow.org/guide/function#controlling_retracing and https://www.tensorflow.org/api_docs/python/tf/function for  more details.\n"
          ],
          "name": "stdout"
        }
      ]
    },
    {
      "cell_type": "code",
      "metadata": {
        "colab": {
          "base_uri": "https://localhost:8080/"
        },
        "id": "_k5X0oA55nYQ",
        "outputId": "02d8fca7-b8fd-4d43-916a-6702d1b2fbe9"
      },
      "source": [
        "if reloded_result[0] > 0.5:\n",
        "  print('yes')\n",
        "else:\n",
        "  print('NO')"
      ],
      "execution_count": 89,
      "outputs": [
        {
          "output_type": "stream",
          "text": [
            "yes\n"
          ],
          "name": "stdout"
        }
      ]
    },
    {
      "cell_type": "markdown",
      "metadata": {
        "id": "trs1R6xPRqoL"
      },
      "source": [
        "## Retrieve the trained word embeddings and save them to disk\n",
        "\n",
        "Next, retrieve the word embeddings learned during training. The embeddings are weights of the Embedding layer in the model. The weights matrix is of shape (vocab_size, embedding_dimension).\n",
        "\n",
        "Obtain the weights from the model using get_layer() and get_weights(). The get_vocabulary() function provides the vocabulary to build a metadata file with one token per line. "
      ]
    },
    {
      "cell_type": "code",
      "metadata": {
        "id": "alihOGdHQ-EF"
      },
      "source": [
        "weights = model.get_layer('embedding').get_weights()[0]\n",
        "vocab = vectorize_layer.get_vocabulary()"
      ],
      "execution_count": 90,
      "outputs": []
    },
    {
      "cell_type": "markdown",
      "metadata": {
        "id": "eaP4-M7ERy7R"
      },
      "source": [
        "Write the weights to disk. To use the Embedding Projector, you will upload two files in tab separated format: a file of vectors (containing the embedding), and a file of meta data (containing the words).\n",
        "\n"
      ]
    },
    {
      "cell_type": "code",
      "metadata": {
        "id": "7PbtkLWcRzWe"
      },
      "source": [
        "out_v = io.open('vectors.tsv', 'w', encoding='utf-8')\n",
        "out_m = io.open('metadata.tsv', 'w', encoding='utf-8')\n",
        "\n",
        "for index, word in enumerate(vocab):\n",
        "  if index == 0:\n",
        "    continue  # skip 0, it's padding.\n",
        "  vec = weights[index]\n",
        "  out_v.write('\\t'.join([str(x) for x in vec]) + \"\\n\")\n",
        "  out_m.write(word + \"\\n\")\n",
        "out_v.close()\n",
        "out_m.close()\n"
      ],
      "execution_count": 91,
      "outputs": []
    },
    {
      "cell_type": "code",
      "metadata": {
        "id": "v74l_wqCSYOH"
      },
      "source": [
        "# try:\n",
        "  #from google.colab import files\n",
        "  #files.download('vectors.tsv')\n",
        "  #files.download('metadata.tsv')\n",
        "# except Exception:\n",
        "  #pass\n"
      ],
      "execution_count": 92,
      "outputs": []
    },
    {
      "cell_type": "code",
      "metadata": {
        "id": "cnPf53gaSa8V"
      },
      "source": [
        ""
      ],
      "execution_count": 92,
      "outputs": []
    }
  ]
}